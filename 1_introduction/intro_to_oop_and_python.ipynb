{
 "cells": [
  {
   "cell_type": "markdown",
   "id": "12a5d26b",
   "metadata": {},
   "source": [
    "#### procedural \n",
    "<code>\n",
    "this = 0\n",
    "this = increment(this)\n",
    "print(this)\n",
    "</code>\n",
    "\n",
    "#### object\n",
    "<code>\n",
    "this = StudentGrade() # this is a StudentGrade object\n",
    "this = increment()\n",
    "print(this)\n",
    "</code>"
   ]
  },
  {
   "cell_type": "code",
   "execution_count": 1,
   "id": "6c410bfd",
   "metadata": {},
   "outputs": [
    {
     "name": "stdout",
     "output_type": "stream",
     "text": [
      "<class 'function'>\n"
     ]
    }
   ],
   "source": [
    "def fn(x,y):\n",
    "    return x*y\n",
    "\n",
    "print(type(fn))"
   ]
  },
  {
   "cell_type": "markdown",
   "id": "afabb98a",
   "metadata": {},
   "source": [
    "### List\n",
    "- They are Mutable"
   ]
  },
  {
   "cell_type": "code",
   "execution_count": 2,
   "id": "bf20be99",
   "metadata": {},
   "outputs": [
    {
     "name": "stdout",
     "output_type": "stream",
     "text": [
      "<class 'list'>\n"
     ]
    }
   ],
   "source": [
    "lst = []\n",
    "print(type(lst))"
   ]
  },
  {
   "cell_type": "code",
   "execution_count": 3,
   "id": "26730e6e",
   "metadata": {},
   "outputs": [
    {
     "name": "stdout",
     "output_type": "stream",
     "text": [
      "<class 'list'>\n"
     ]
    }
   ],
   "source": [
    "intLst = [1, 2,3,4,5]\n",
    "print(type(intLst))"
   ]
  },
  {
   "cell_type": "code",
   "execution_count": 4,
   "id": "016f556f",
   "metadata": {
    "scrolled": true
   },
   "outputs": [
    {
     "name": "stdout",
     "output_type": "stream",
     "text": [
      "<class 'type'>\n"
     ]
    }
   ],
   "source": [
    "mixed_lst = ['john', 60, 'joe', 45]\n",
    "lst_type = type(mixed_lst)\n",
    "print(type(lst_type))"
   ]
  },
  {
   "cell_type": "markdown",
   "id": "20adbc07",
   "metadata": {},
   "source": [
    "### Tuple\n",
    "- Immutable"
   ]
  },
  {
   "cell_type": "code",
   "execution_count": 19,
   "id": "f447eb3e",
   "metadata": {},
   "outputs": [
    {
     "name": "stdout",
     "output_type": "stream",
     "text": [
      "MTN\n",
      "200\n",
      "280\n"
     ]
    }
   ],
   "source": [
    "#           0    1    2\n",
    "stock1 = 'MTN', 200, 280\n",
    "stock2 = ('MTN', 200, 280)\n",
    "\n",
    "# print(type(stock1))\n",
    "# print(type(stock2))\n",
    "\n",
    "print(stock1[0])\n",
    "print(stock1[1])\n",
    "print(stock1[2])"
   ]
  },
  {
   "cell_type": "code",
   "execution_count": 6,
   "id": "0c3a9aeb",
   "metadata": {},
   "outputs": [
    {
     "name": "stdout",
     "output_type": "stream",
     "text": [
      "<class 'int'>\n"
     ]
    }
   ],
   "source": [
    "x = 8\n",
    "print(type(x))"
   ]
  },
  {
   "cell_type": "code",
   "execution_count": 7,
   "id": "1ffcc1af",
   "metadata": {},
   "outputs": [
    {
     "name": "stdout",
     "output_type": "stream",
     "text": [
      "<class 'dict'>\n"
     ]
    }
   ],
   "source": [
    "dct = {}\n",
    "print(type(dct))"
   ]
  },
  {
   "cell_type": "markdown",
   "id": "4b9229d4",
   "metadata": {},
   "source": [
    "- Text type: str\n",
    "- Numeric type: int, float, complex\n",
    "- Sequence type: list, tuple, range\n",
    "- Mapping: dict\n",
    "- Boolean type: bool\n",
    "- Set type: set, frozenset\n",
    "- None Type: None\n",
    "- Binary Type: bytes, bytearray, memoryview"
   ]
  },
  {
   "cell_type": "code",
   "execution_count": 8,
   "id": "51cb00e3",
   "metadata": {},
   "outputs": [
    {
     "name": "stdout",
     "output_type": "stream",
     "text": [
      "<class 'complex'>\n"
     ]
    }
   ],
   "source": [
    "a = 5j\n",
    "print(type(a))"
   ]
  },
  {
   "cell_type": "code",
   "execution_count": 9,
   "id": "e1c0ab27",
   "metadata": {},
   "outputs": [
    {
     "name": "stdout",
     "output_type": "stream",
     "text": [
      "<class 'range'>\n"
     ]
    }
   ],
   "source": [
    "print(type(range(10)))\n"
   ]
  },
  {
   "cell_type": "code",
   "execution_count": 10,
   "id": "ac5b3810",
   "metadata": {},
   "outputs": [
    {
     "name": "stdout",
     "output_type": "stream",
     "text": [
      "Name: John\n",
      "Hall: Mitchell\n",
      "John stays in Mitchell\n"
     ]
    }
   ],
   "source": [
    "name = input(\"Name: \")\n",
    "hall = input(\"Hall: \")\n",
    "\n",
    "### print(*object, seperator='', end='\\n', stdout, flush=False)\n",
    "\n",
    "print(f\"{name} stays in {hall}\")"
   ]
  },
  {
   "cell_type": "code",
   "execution_count": 11,
   "id": "8985c9a5",
   "metadata": {},
   "outputs": [
    {
     "name": "stdout",
     "output_type": "stream",
     "text": [
      "Name: John\n",
      "Hall: Mitchell\n",
      "John stays in Mitchell\n"
     ]
    }
   ],
   "source": [
    "def main():\n",
    "    name = get_name()\n",
    "    hall = get_hall()\n",
    "    print(f\"{name} stays in {hall}\")\n",
    "\n",
    "def get_name():\n",
    "    return input(\"Name: \")\n",
    "\n",
    "def get_hall():\n",
    "    return input(\"Hall: \")\n",
    "    \n",
    "main()\n"
   ]
  },
  {
   "cell_type": "code",
   "execution_count": 12,
   "id": "7ab62caa",
   "metadata": {},
   "outputs": [
    {
     "name": "stdout",
     "output_type": "stream",
     "text": [
      "Name: John\n",
      "Hall: Mitchell\n",
      "John stays in Mitchell\n"
     ]
    }
   ],
   "source": [
    "def main():\n",
    "    name, hall = get_studentDetails()\n",
    "    print(f\"{name} stays in {hall}\")\n",
    "\n",
    "def get_studentDetails():\n",
    "    name = input(\"Name: \")\n",
    "    hall = input(\"Hall: \")\n",
    "    return name, hall\n",
    "    \n",
    "main()"
   ]
  },
  {
   "cell_type": "code",
   "execution_count": 15,
   "id": "19be8b8c",
   "metadata": {},
   "outputs": [
    {
     "name": "stdout",
     "output_type": "stream",
     "text": [
      "Name: Jon\n",
      "Hall: Mitchell\n",
      "Jon stays in Mitchell\n"
     ]
    }
   ],
   "source": [
    "def main():\n",
    "    student = get_studentDetails()\n",
    "    print(f\"{student[0]} stays in {student[1]}\")\n",
    "\n",
    "def get_studentDetails():\n",
    "    name = input(\"Name: \")\n",
    "    hall = input(\"Hall: \")\n",
    "    return (name, hall) # tuple -- it's immutable\n",
    "\n",
    "if __name__ == \"__main__\":\n",
    "    main()"
   ]
  },
  {
   "cell_type": "code",
   "execution_count": 18,
   "id": "7a4f8b54",
   "metadata": {},
   "outputs": [
    {
     "name": "stdout",
     "output_type": "stream",
     "text": [
      "Name: John\n",
      "Hall: Mitchell\n"
     ]
    },
    {
     "ename": "TypeError",
     "evalue": "'tuple' object does not support item assignment",
     "output_type": "error",
     "traceback": [
      "\u001b[1;31m---------------------------------------------------------------------------\u001b[0m",
      "\u001b[1;31mTypeError\u001b[0m                                 Traceback (most recent call last)",
      "\u001b[1;32m~\\AppData\\Local\\Temp\\ipykernel_15640\\4074445149.py\u001b[0m in \u001b[0;36m<module>\u001b[1;34m\u001b[0m\n\u001b[0;32m     11\u001b[0m \u001b[1;33m\u001b[0m\u001b[0m\n\u001b[0;32m     12\u001b[0m \u001b[1;32mif\u001b[0m \u001b[0m__name__\u001b[0m \u001b[1;33m==\u001b[0m \u001b[1;34m\"__main__\"\u001b[0m\u001b[1;33m:\u001b[0m\u001b[1;33m\u001b[0m\u001b[1;33m\u001b[0m\u001b[0m\n\u001b[1;32m---> 13\u001b[1;33m     \u001b[0mmain\u001b[0m\u001b[1;33m(\u001b[0m\u001b[1;33m)\u001b[0m\u001b[1;33m\u001b[0m\u001b[1;33m\u001b[0m\u001b[0m\n\u001b[0m",
      "\u001b[1;32m~\\AppData\\Local\\Temp\\ipykernel_15640\\4074445149.py\u001b[0m in \u001b[0;36mmain\u001b[1;34m()\u001b[0m\n\u001b[0;32m      2\u001b[0m     \u001b[0mstudent\u001b[0m \u001b[1;33m=\u001b[0m \u001b[0mget_studentDetails\u001b[0m\u001b[1;33m(\u001b[0m\u001b[1;33m)\u001b[0m\u001b[1;33m\u001b[0m\u001b[1;33m\u001b[0m\u001b[0m\n\u001b[0;32m      3\u001b[0m     \u001b[1;32mif\u001b[0m \u001b[0mstudent\u001b[0m\u001b[1;33m[\u001b[0m\u001b[1;36m0\u001b[0m\u001b[1;33m]\u001b[0m \u001b[1;33m==\u001b[0m \u001b[1;34m\"John\"\u001b[0m\u001b[1;33m:\u001b[0m\u001b[1;33m\u001b[0m\u001b[1;33m\u001b[0m\u001b[0m\n\u001b[1;32m----> 4\u001b[1;33m         \u001b[0mstudent\u001b[0m\u001b[1;33m[\u001b[0m\u001b[1;36m1\u001b[0m\u001b[1;33m]\u001b[0m \u001b[1;33m=\u001b[0m \u001b[1;34m\"Lumumba\"\u001b[0m\u001b[1;33m\u001b[0m\u001b[1;33m\u001b[0m\u001b[0m\n\u001b[0m\u001b[0;32m      5\u001b[0m     \u001b[0mprint\u001b[0m\u001b[1;33m(\u001b[0m\u001b[1;34mf\"{student[0]} stays in {student[1]} Hall\"\u001b[0m\u001b[1;33m)\u001b[0m\u001b[1;33m\u001b[0m\u001b[1;33m\u001b[0m\u001b[0m\n\u001b[0;32m      6\u001b[0m \u001b[1;33m\u001b[0m\u001b[0m\n",
      "\u001b[1;31mTypeError\u001b[0m: 'tuple' object does not support item assignment"
     ]
    }
   ],
   "source": [
    "def main():\n",
    "    student = get_studentDetails()\n",
    "    if student[0] == \"John\":\n",
    "        student[1] = \"Lumumba\"\n",
    "    print(f\"{student[0]} stays in {student[1]} Hall\")\n",
    "\n",
    "def get_studentDetails():\n",
    "    name = input(\"Name: \")\n",
    "    hall = input(\"Hall: \")\n",
    "    return (name, hall) # tuple -- it's immutable\n",
    "\n",
    "if __name__ == \"__main__\":\n",
    "    main()"
   ]
  },
  {
   "cell_type": "code",
   "execution_count": 20,
   "id": "cd8ad8cd",
   "metadata": {},
   "outputs": [
    {
     "name": "stdout",
     "output_type": "stream",
     "text": [
      "Name: John\n",
      "Hall: Mitchell\n",
      "John stays in Lumumba Hall\n"
     ]
    }
   ],
   "source": [
    "def main():\n",
    "    student = get_studentDetails()\n",
    "    if student[0] == \"John\":\n",
    "        student[1] = \"Lumumba\"\n",
    "    print(f\"{student[0]} stays in {student[1]} Hall\")\n",
    "\n",
    "def get_studentDetails():\n",
    "    name = input(\"Name: \")\n",
    "    hall = input(\"Hall: \")\n",
    "    return [name, hall] # List -- it's mutable\n",
    "\n",
    "if __name__ == \"__main__\":\n",
    "    main()"
   ]
  },
  {
   "cell_type": "code",
   "execution_count": 23,
   "id": "e45a7cc1",
   "metadata": {},
   "outputs": [
    {
     "name": "stdout",
     "output_type": "stream",
     "text": [
      "Name: John\n",
      "Hall: Mitchell\n",
      "John stays in Mitchell Hall\n"
     ]
    }
   ],
   "source": [
    "def main():\n",
    "    student = get_studentDetails()\n",
    "    print(f\"{student['name']} stays in {student['hall']} Hall\")\n",
    "\n",
    "def get_studentDetails():\n",
    "    student = {}\n",
    "    student[\"name\"] = input(\"Name: \")\n",
    "    student[\"hall\"] = input(\"Hall: \")\n",
    "\n",
    "    return student # Dict -- it's mutable\n",
    "\n",
    "if __name__ == \"__main__\":\n",
    "    main()"
   ]
  },
  {
   "cell_type": "code",
   "execution_count": 24,
   "id": "1c36ab02",
   "metadata": {},
   "outputs": [
    {
     "name": "stdout",
     "output_type": "stream",
     "text": [
      "Name: Joe\n",
      "Hall: Mitchell\n",
      "Joe stays in Mitchell Hall\n"
     ]
    }
   ],
   "source": [
    "def main():\n",
    "    student = get_studentDetails()\n",
    "    print(f\"{student['name']} stays in {student['hall']} Hall\")\n",
    "\n",
    "def get_studentDetails():\n",
    "    name = input(\"Name: \")\n",
    "    hall = input(\"Hall: \")\n",
    "    return {\"name\": name, \"hall\":hall} # Dict -- it's mutable\n",
    "\n",
    "if __name__ == \"__main__\":\n",
    "    main()"
   ]
  },
  {
   "cell_type": "code",
   "execution_count": 25,
   "id": "2443da19",
   "metadata": {},
   "outputs": [
    {
     "name": "stdout",
     "output_type": "stream",
     "text": [
      "Name: John\n",
      "Hall: Mitchell\n",
      "John stays in Mitchell Hall\n"
     ]
    }
   ],
   "source": [
    "class Student:# a class is a user defined data type -- classes are mutable\n",
    "    ...\n",
    "\n",
    "def main():\n",
    "    student = get_studentDetails()\n",
    "    print(f\"{student.name} stays in {student.hall} Hall\")\n",
    "\n",
    "def get_studentDetails():\n",
    "    student = Student() ## declaring an object\n",
    "    student.name = input(\"Name: \")\n",
    "    student.hall = input(\"Hall: \")\n",
    "    \n",
    "    return student # object -- it's mutable\n",
    "\n",
    "if __name__ == \"__main__\":\n",
    "    main()\n"
   ]
  },
  {
   "cell_type": "code",
   "execution_count": 27,
   "id": "38459c65",
   "metadata": {},
   "outputs": [
    {
     "name": "stdout",
     "output_type": "stream",
     "text": [
      "Name: John\n",
      "Hall: Mitchell\n",
      "John stays in Mitchell Hall\n",
      "<class '__main__.Student'>\n"
     ]
    }
   ],
   "source": [
    "class Student:# a class is a user defined data type -- classes are mutable\n",
    "    def __init__(self, name, hall):\n",
    "        self.name = name\n",
    "        self.hall = hall\n",
    "\n",
    "def main():\n",
    "    student = get_studentDetails()\n",
    "    print(f\"{student.name} stays in {student.hall} Hall\")\n",
    "    print(type(student))\n",
    "\n",
    "def get_studentDetails():\n",
    "    var1 = input(\"Name: \")\n",
    "    var2 = input(\"Hall: \")\n",
    "    return Student(var1, var2)  # object -- it's mutable\n",
    "\n",
    "main()"
   ]
  },
  {
   "cell_type": "code",
   "execution_count": 29,
   "id": "baa6dce7",
   "metadata": {},
   "outputs": [
    {
     "name": "stdout",
     "output_type": "stream",
     "text": [
      "a: 25\n",
      "a squared =  625\n"
     ]
    }
   ],
   "source": [
    "def main():\n",
    "    a = int(input(\"a: \"))\n",
    "    print(\"a squared = \", squared(a))\n",
    "\n",
    "def squared(b):\n",
    "    return b*b\n",
    "            \n",
    "main()\n",
    "    "
   ]
  },
  {
   "cell_type": "code",
   "execution_count": 40,
   "id": "848de3bc",
   "metadata": {},
   "outputs": [
    {
     "name": "stdout",
     "output_type": "stream",
     "text": [
      "Name: John\n",
      "Hall: Mitchell\n",
      "John stays in Mitchell Hall\n"
     ]
    }
   ],
   "source": [
    "class Student:# a class is a user defined data type -- classes are mutable\n",
    "    def __init__(self, name, hall):\n",
    "        if not name:\n",
    "            raise ValueError(\"Missing the name\")\n",
    "        if hall not in [\"Lumumba\", \"Mitchell\", \"Sabiti\", \"Nsibambi\"]:\n",
    "            raise ValueError(\"You put in an invalid hall\")\n",
    "        self.name = name\n",
    "        self.hall = hall\n",
    "        \n",
    "    def __str__(self):\n",
    "        return f\"{self.name} stays in {self.hall} Hall\"\n",
    "\n",
    "def main():\n",
    "    student = get_studentDetails()\n",
    "    print(student)\n",
    "    \n",
    "\n",
    "def get_studentDetails():\n",
    "    var1 = input(\"Name: \")\n",
    "    var2 = input(\"Hall: \")\n",
    "    return Student(var1, var2)  # object -- it's mutable\n",
    "\n",
    "main()"
   ]
  },
  {
   "cell_type": "markdown",
   "id": "07d35f35",
   "metadata": {},
   "source": [
    "## Libraries"
   ]
  },
  {
   "cell_type": "code",
   "execution_count": 48,
   "id": "482bbe36",
   "metadata": {},
   "outputs": [
    {
     "name": "stdout",
     "output_type": "stream",
     "text": [
      "Queen\n",
      "King\n",
      "A\n",
      "Jack\n"
     ]
    }
   ],
   "source": [
    "import random as rm\n",
    "cards = [\"A\", \"Jack\", \"Queen\", \"King\"]\n",
    "rm.shuffle(cards)\n",
    "for card in cards:\n",
    "    print(card)"
   ]
  },
  {
   "cell_type": "code",
   "execution_count": 50,
   "id": "3ebe4531",
   "metadata": {},
   "outputs": [
    {
     "name": "stdout",
     "output_type": "stream",
     "text": [
      "    January 2023\n",
      "Mo Tu We Th Fr Sa Su\n",
      "                   1\n",
      " 2  3  4  5  6  7  8\n",
      " 9 10 11 12 13 14 15\n",
      "16 17 18 19 20 21 22\n",
      "23 24 25 26 27 28 29\n",
      "30 31\n"
     ]
    }
   ],
   "source": [
    "import calendar as cl\n",
    "\n",
    "var1 = cl.TextCalendar(cl.MONDAY)\n",
    "\n",
    "var1.prmonth(2023, 1)\n"
   ]
  },
  {
   "cell_type": "code",
   "execution_count": null,
   "id": "5d88b0c9",
   "metadata": {},
   "outputs": [],
   "source": []
  }
 ],
 "metadata": {
  "kernelspec": {
   "display_name": "Python 3 (ipykernel)",
   "language": "python",
   "name": "python3"
  },
  "language_info": {
   "codemirror_mode": {
    "name": "ipython",
    "version": 3
   },
   "file_extension": ".py",
   "mimetype": "text/x-python",
   "name": "python",
   "nbconvert_exporter": "python",
   "pygments_lexer": "ipython3",
   "version": "3.9.13"
  }
 },
 "nbformat": 4,
 "nbformat_minor": 5
}
